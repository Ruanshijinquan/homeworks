{
  "nbformat": 4,
  "nbformat_minor": 0,
  "metadata": {
    "colab": {
      "provenance": [],
      "authorship_tag": "ABX9TyNL8spKTjWUNbfeg/4CqzFK",
      "include_colab_link": true
    },
    "kernelspec": {
      "name": "python3",
      "display_name": "Python 3"
    },
    "language_info": {
      "name": "python"
    },
    "accelerator": "GPU",
    "gpuClass": "standard"
  },
  "cells": [
    {
      "cell_type": "markdown",
      "metadata": {
        "id": "view-in-github",
        "colab_type": "text"
      },
      "source": [
        "<a href=\"https://colab.research.google.com/github/Ruanshijinquan/homeworks/blob/main/homework2.ipynb\" target=\"_parent\"><img src=\"https://colab.research.google.com/assets/colab-badge.svg\" alt=\"Open In Colab\"/></a>"
      ]
    },
    {
      "cell_type": "code",
      "source": [
        "from google.colab import drive\n",
        "drive.mount('/content/drive') "
      ],
      "metadata": {
        "colab": {
          "base_uri": "https://localhost:8080/"
        },
        "id": "0EHEAsHwRS0D",
        "outputId": "8caa14ba-09e8-4d46-ec06-8af450c783a7"
      },
      "execution_count": null,
      "outputs": [
        {
          "output_type": "stream",
          "name": "stdout",
          "text": [
            "Mounted at /content/drive\n"
          ]
        }
      ]
    },
    {
      "cell_type": "code",
      "source": [
        "s=\"大道之行也，天 下為公。選賢與能，講信 修睦。故人不獨親其親，不獨子其子；使老有所終，壯有所用，幼有所長，矜寡孤獨廢疾者，皆有所養；男有分女有歸。貨惡其棄 於地也不必藏於己；力惡其不 出於身也不必為己。是故 謀閉而不興 ，盜竊亂賊而不作，故外戶而 不閉，是謂「大同」\"\n",
        "#1\n",
        "a = str(\"大道之行也，天  下為公。 選賢與能，講信  修睦。故人不獨親其親，不獨子其子；使老有所終，壯有 所用，幼有 所長，矜寡孤獨廢疾者，皆有所養；男有分 女有歸。貨惡其棄 於地也不必藏於  己；力惡其不  出於身也不必為己。是故 謀閉而不興 ，盜竊亂賊而不作，故外戶而 不閉，是謂「大同」。\")\n",
        "b = a.replace(\" \",\"\",)\n",
        "c = len(b)\n",
        "print(\"#1\",c)\n",
        "#2\n",
        "list2 = s.split(\"；\")\n",
        "print(\"#2\",list2)\n",
        "\n",
        "#3\n",
        "print(\"#3\",s.count(\"不\"))\n"
      ],
      "metadata": {
        "colab": {
          "base_uri": "https://localhost:8080/"
        },
        "id": "Xw8EFolCaIba",
        "outputId": "a9336204-429d-461c-bc8b-23aebacc8d75"
      },
      "execution_count": 68,
      "outputs": [
        {
          "output_type": "stream",
          "name": "stdout",
          "text": [
            "#1 127\n",
            "#2 ['大道之行也，天 下為公。選賢與能，講信 修睦。故人不獨親其親，不獨子其子', '使老有所終，壯有所用，幼有所長，矜寡孤獨廢疾者，皆有所養', '男有分女有歸。貨惡其棄 於地也不必藏於己', '力惡其不 出於身也不必為己。是故 謀閉而不興 ，盜竊亂賊而不作，故外戶而 不閉，是謂「大同」']\n",
            "#3 8\n"
          ]
        }
      ]
    }
  ]
}