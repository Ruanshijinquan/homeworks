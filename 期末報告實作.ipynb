{
  "nbformat": 4,
  "nbformat_minor": 0,
  "metadata": {
    "colab": {
      "provenance": [],
      "authorship_tag": "ABX9TyMXcuAH7blbqjiqV0VN2zLG",
      "include_colab_link": true
    },
    "kernelspec": {
      "name": "python3",
      "display_name": "Python 3"
    },
    "language_info": {
      "name": "python"
    },
    "accelerator": "GPU",
    "gpuClass": "standard"
  },
  "cells": [
    {
      "cell_type": "markdown",
      "metadata": {
        "id": "view-in-github",
        "colab_type": "text"
      },
      "source": [
        "<a href=\"https://colab.research.google.com/github/Ruanshijinquan/homeworks/blob/main/%E6%9C%9F%E6%9C%AB%E5%A0%B1%E5%91%8A%E5%AF%A6%E4%BD%9C.ipynb\" target=\"_parent\"><img src=\"https://colab.research.google.com/assets/colab-badge.svg\" alt=\"Open In Colab\"/></a>"
      ]
    },
    {
      "cell_type": "code",
      "source": [
        "from google.colab import drive\n",
        "drive.mount('/content/gdrive')"
      ],
      "metadata": {
        "id": "qg-FFvDTb-y-",
        "colab": {
          "base_uri": "https://localhost:8080/"
        },
        "outputId": "b29fa74a-05c1-4a35-db14-83d24ab07d07"
      },
      "execution_count": null,
      "outputs": [
        {
          "output_type": "stream",
          "name": "stdout",
          "text": [
            "Mounted at /content/gdrive\n"
          ]
        }
      ]
    },
    {
      "cell_type": "code",
      "source": [
        "class City:\n",
        "    def __init__(self, name, coordinates, hotel_cost):\n",
        "        self.name = name\n",
        "        self.coordinates = coordinates\n",
        "        self.hotel_cost = hotel_cost\n",
        "        self.reduced_hotel_cost = hotel_cost * 0.2\n",
        "\n",
        "    def calculate_distance(self, other_city):\n",
        "        x1, y1 = self.coordinates\n",
        "        x2, y2 = other_city.coordinates\n",
        "        distance = ((x2 - x1) ** 2 + (y2 - y1) ** 2) ** 0.5\n",
        "        return distance\n",
        "\n",
        "city_a = City('A', (0, 0), 2000)\n",
        "city_b = City('B', (0, 120), 2400)\n",
        "city_c = City('C', (30, 100), 2400)\n",
        "city_d = City('D', (80, 0), 1600)\n",
        "city_e = City('E', (45, 10), 1500)\n",
        "city_f = City('F', (90, 160), 2200)\n",
        "city_g = City('G', (120, 200), 1200)\n",
        "\n",
        "cities = [city_a, city_b, city_c, city_d, city_e, city_f, city_g]\n",
        "\n",
        "def find_cheapest_path(cities):\n",
        "    starting_city = cities[0]\n",
        "    remaining_cities = cities[1:]\n",
        "\n",
        "    path = [starting_city.name]\n",
        "    total_cost = 0\n",
        "\n",
        "    current_city = starting_city\n",
        "\n",
        "    while remaining_cities:\n",
        "        nearest_city = min(remaining_cities, key=lambda city: current_city.calculate_distance(city))\n",
        "\n",
        "        distance = current_city.calculate_distance(nearest_city)\n",
        "        fuel_cost = distance * 100\n",
        "        hotel_cost = nearest_city.hotel_cost if nearest_city != cities[-1] else nearest_city.reduced_hotel_cost\n",
        "        total_cost += fuel_cost + hotel_cost\n",
        "\n",
        "        current_city = nearest_city\n",
        "        remaining_cities.remove(nearest_city)\n",
        "\n",
        "        path.append(nearest_city.name)\n",
        "\n",
        "    return path, total_cost\n",
        "\n",
        "path, total_cost = find_cheapest_path(cities)\n",
        "\n",
        "print('遊歷的順序:', ' -> '.join(path))\n",
        "print('總共花費的旅費:', total_cost)"
      ],
      "metadata": {
        "colab": {
          "base_uri": "https://localhost:8080/"
        },
        "id": "Ve7FfIejZI5q",
        "outputId": "8bb13012-bfa5-42ce-85d5-2a80bc398252"
      },
      "execution_count": 1,
      "outputs": [
        {
          "output_type": "stream",
          "name": "stdout",
          "text": [
            "遊歷的順序: A -> E -> D -> C -> B -> F -> G\n",
            "總共花費的旅費: 48224.57613804574\n"
          ]
        }
      ]
    }
  ]
}