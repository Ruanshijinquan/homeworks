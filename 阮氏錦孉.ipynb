{
  "nbformat": 4,
  "nbformat_minor": 0,
  "metadata": {
    "colab": {
      "provenance": [],
      "name": "阮氏錦孉.ipynb",
      "authorship_tag": "ABX9TyOjN5wETc1A+MVuXSDHppqL",
      "include_colab_link": true
    },
    "kernelspec": {
      "name": "python3",
      "display_name": "Python 3"
    },
    "language_info": {
      "name": "python"
    },
    "accelerator": "GPU",
    "gpuClass": "standard"
  },
  "cells": [
    {
      "cell_type": "markdown",
      "metadata": {
        "id": "view-in-github",
        "colab_type": "text"
      },
      "source": [
        "<a href=\"https://colab.research.google.com/github/Ruanshijinquan/homeworks/blob/main/%E9%98%AE%E6%B0%8F%E9%8C%A6%E5%AD%89.ipynb\" target=\"_parent\"><img src=\"https://colab.research.google.com/assets/colab-badge.svg\" alt=\"Open In Colab\"/></a>"
      ]
    },
    {
      "cell_type": "code",
      "source": [
        "text=\"771087196332421115188282238444755250158493858539343346487032333719625141526839555520272530988151856903286891141772423608887696859986562414811405587746238773636715160787630117125854513714221\"\n",
        "a=len(text)\n",
        "print(\"1.數字字串數量：\",a)\n"
      ],
      "metadata": {
        "colab": {
          "base_uri": "https://localhost:8080/",
          "height": 0
        },
        "id": "EU10PYmlMCKD",
        "outputId": "82d66c11-a086-4c42-b3d3-829eed2f9d2b"
      },
      "execution_count": 84,
      "outputs": [
        {
          "output_type": "stream",
          "name": "stdout",
          "text": [
            "1.數字字串數量： 189\n"
          ]
        }
      ]
    },
    {
      "cell_type": "code",
      "source": [
        "initial_num=771087196332421115188282238444755250158493858539343346487032333719625141526839555520272530988151856903286891141772423608887696859986562414811405587746238773636715160787630117125854513714221\n",
        "a = (format(initial_num, ',d'))\n",
        "print(\"依序並間隔取三位數為: \" + str(a))"
      ],
      "metadata": {
        "colab": {
          "base_uri": "https://localhost:8080/",
          "height": 0
        },
        "id": "oszpL-x9TlLv",
        "outputId": "26548d06-8106-4c7f-da63-a815b16e3d56"
      },
      "execution_count": 93,
      "outputs": [
        {
          "output_type": "stream",
          "name": "stdout",
          "text": [
            "依序並間隔取三位數為: 771,087,196,332,421,115,188,282,238,444,755,250,158,493,858,539,343,346,487,032,333,719,625,141,526,839,555,520,272,530,988,151,856,903,286,891,141,772,423,608,887,696,859,986,562,414,811,405,587,746,238,773,636,715,160,787,630,117,125,854,513,714,221\n"
          ]
        }
      ]
    },
    {
      "cell_type": "code",
      "source": [
        "for b in [ 771,87,196,332,421,115,188,282,238,444,755,250,158,493,858,539,343,346,487,32,333,719,625,141,526,839,555,520,272,530,988,151,856,903,286,891,141,772,423,608,887,696,859,986,562,414,811,405,587,746,238,773,636,715,160,787,630,117,125,854,513,714,221]:\n",
        "    if(b % 2 ==0):\n",
        "     print(b)\n",
        "  \n",
        " "
      ],
      "metadata": {
        "colab": {
          "base_uri": "https://localhost:8080/",
          "height": 0
        },
        "id": "aDiKRZqBwreK",
        "outputId": "d6d994cf-fb82-4dfd-8ce0-16a5078f7f40"
      },
      "execution_count": 91,
      "outputs": [
        {
          "output_type": "stream",
          "name": "stdout",
          "text": [
            "196\n",
            "332\n",
            "188\n",
            "282\n",
            "238\n",
            "444\n",
            "250\n",
            "158\n",
            "858\n",
            "346\n",
            "32\n",
            "526\n",
            "520\n",
            "272\n",
            "530\n",
            "988\n",
            "856\n",
            "286\n",
            "772\n",
            "608\n",
            "696\n",
            "986\n",
            "562\n",
            "414\n",
            "746\n",
            "238\n",
            "636\n",
            "160\n",
            "630\n",
            "854\n",
            "714\n"
          ]
        }
      ]
    },
    {
      "cell_type": "code",
      "source": [],
      "metadata": {
        "id": "ZwcjgAq93GkJ"
      },
      "execution_count": null,
      "outputs": []
    },
    {
      "cell_type": "code",
      "source": [
        "for c in [ 771,87,196,332,421,115,188,282,238,444,755,250,158,493,858,539,343,346,487,32,333,719,625,141,526,839,555,520,272,530,988,151,856,903,286,891,141,772,423,608,887,696,859,986,562,414,811,405,587,746,238,773,636,715,160,787,630,117,125,854,513,714,221]:\n",
        "    if(c % 2 ==0) and (c % 3 ==0) and (c % 5 ==0):\n",
        "     print(\"3.能被，2,3,5,整除的數字:\",c)\n"
      ],
      "metadata": {
        "colab": {
          "base_uri": "https://localhost:8080/",
          "height": 0
        },
        "id": "X4hEz4ZqyTp4",
        "outputId": "9047f847-ae08-4497-c721-f667d4822570"
      },
      "execution_count": 85,
      "outputs": [
        {
          "output_type": "stream",
          "name": "stdout",
          "text": [
            "3.能被，2,3,5,整除的數字: 630\n"
          ]
        }
      ]
    }
  ]
}