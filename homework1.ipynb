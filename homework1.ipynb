{
  "nbformat": 4,
  "nbformat_minor": 0,
  "metadata": {
    "colab": {
      "provenance": [],
      "authorship_tag": "ABX9TyPrcsq+Ob6gHkuWFGlJsmip",
      "include_colab_link": true
    },
    "kernelspec": {
      "name": "python3",
      "display_name": "Python 3"
    },
    "language_info": {
      "name": "python"
    },
    "accelerator": "GPU",
    "gpuClass": "standard"
  },
  "cells": [
    {
      "cell_type": "markdown",
      "metadata": {
        "id": "view-in-github",
        "colab_type": "text"
      },
      "source": [
        "<a href=\"https://colab.research.google.com/github/Ruanshijinquan/homeworks/blob/main/homework1.ipynb\" target=\"_parent\"><img src=\"https://colab.research.google.com/assets/colab-badge.svg\" alt=\"Open In Colab\"/></a>"
      ]
    },
    {
      "cell_type": "code",
      "source": [
        "from google.colab import drive\n",
        "drive.mount('/content/drive') "
      ],
      "metadata": {
        "colab": {
          "base_uri": "https://localhost:8080/"
        },
        "id": "0EHEAsHwRS0D",
        "outputId": "8caa14ba-09e8-4d46-ec06-8af450c783a7"
      },
      "execution_count": null,
      "outputs": [
        {
          "output_type": "stream",
          "name": "stdout",
          "text": [
            "Mounted at /content/drive\n"
          ]
        }
      ]
    },
    {
      "cell_type": "code",
      "source": [
        "print(\"銅板50、10、5、1元四種，請問如何用最少數量的銅板揍足78元？\")\n",
        "a=1*2\n",
        "#a<3\n",
        "b=5*1\n",
        "#b<=5\n",
        "c=10*2\n",
        "#c<=10\n",
        "d=50*1\n",
        "#d<=50\n",
        "print(\"a+b+c+d=\",a+b+c+d,\"<78\")\n"
      ],
      "metadata": {
        "colab": {
          "base_uri": "https://localhost:8080/"
        },
        "id": "hCZiE7EaWZYe",
        "outputId": "907942cd-3578-43bb-fbf2-a19befcea7de"
      },
      "execution_count": 3,
      "outputs": [
        {
          "output_type": "stream",
          "name": "stdout",
          "text": [
            "銅板50、10、5、1元四種，請問如何用最少數量的銅板揍足78元？\n",
            "a+b+c+d= 77 <78\n"
          ]
        }
      ]
    }
  ]
}