{
  "nbformat": 4,
  "nbformat_minor": 0,
  "metadata": {
    "colab": {
      "provenance": [],
      "authorship_tag": "ABX9TyM3mfZ0bDEhFofqfgIWwhvE",
      "include_colab_link": true
    },
    "kernelspec": {
      "name": "python3",
      "display_name": "Python 3"
    },
    "language_info": {
      "name": "python"
    },
    "accelerator": "GPU",
    "gpuClass": "standard"
  },
  "cells": [
    {
      "cell_type": "markdown",
      "metadata": {
        "id": "view-in-github",
        "colab_type": "text"
      },
      "source": [
        "<a href=\"https://colab.research.google.com/github/Ruanshijinquan/homeworks/blob/main/homework1.ipynb\" target=\"_parent\"><img src=\"https://colab.research.google.com/assets/colab-badge.svg\" alt=\"Open In Colab\"/></a>"
      ]
    },
    {
      "cell_type": "code",
      "source": [
        "from google.colab import drive\n",
        "drive.mount('/content/drive') "
      ],
      "metadata": {
        "colab": {
          "base_uri": "https://localhost:8080/"
        },
        "id": "0EHEAsHwRS0D",
        "outputId": "8caa14ba-09e8-4d46-ec06-8af450c783a7"
      },
      "execution_count": null,
      "outputs": [
        {
          "output_type": "stream",
          "name": "stdout",
          "text": [
            "Mounted at /content/drive\n"
          ]
        }
      ]
    },
    {
      "cell_type": "code",
      "source": [
        "x=\"123\"\n",
        "str(x)"
      ],
      "metadata": {
        "colab": {
          "base_uri": "https://localhost:8080/",
          "height": 35
        },
        "id": "rjT1yYew3oTF",
        "outputId": "2d2cdd46-a915-4f53-bc60-206f8d5732fb"
      },
      "execution_count": null,
      "outputs": [
        {
          "output_type": "execute_result",
          "data": {
            "text/plain": [
              "'123'"
            ],
            "application/vnd.google.colaboratory.intrinsic+json": {
              "type": "string"
            }
          },
          "metadata": {},
          "execution_count": 1
        }
      ]
    },
    {
      "cell_type": "code",
      "source": [
        "int(x)"
      ],
      "metadata": {
        "colab": {
          "base_uri": "https://localhost:8080/"
        },
        "id": "0gLh4_dy5vmI",
        "outputId": "86e68a44-53dd-4983-814f-c4dc170c70b2"
      },
      "execution_count": null,
      "outputs": [
        {
          "output_type": "execute_result",
          "data": {
            "text/plain": [
              "123"
            ]
          },
          "metadata": {},
          "execution_count": 2
        }
      ]
    },
    {
      "cell_type": "code",
      "source": [
        "a=\"there are %f dollars\"\n",
        "print(a % 2 )"
      ],
      "metadata": {
        "colab": {
          "base_uri": "https://localhost:8080/"
        },
        "id": "Rrf8jQvU7JeJ",
        "outputId": "e1ff3086-6fd4-4a0e-94e6-c3dee2f76a02"
      },
      "execution_count": null,
      "outputs": [
        {
          "output_type": "stream",
          "name": "stdout",
          "text": [
            "there are 2.000000 dollars\n"
          ]
        }
      ]
    },
    {
      "cell_type": "code",
      "source": [
        "a = 'hello {}, I am {}'.format('world','oxxo')\n",
        "b = 'hello {:10s}, I am {:10s}'.format('world','oxxo')\n",
        "c = 'hello {:>10s}, I am {:>10s}'.format('world','oxxo')\n",
        "d = 'hello {:-^10s}, I am {:+^10s}'.format('world','oxxo')\n",
        "e = 'hello {:-^10.3s}, I am {:-^10s}'.format('world','oxxo')\n",
        "f = 'hello {:-^10.3s}, I am {:^10.3f}'.format('world',123.456789)\n",
        "print(a)  # hello world, I am oxxo\n",
        "print(b)  # hello world     , I am oxxo\n",
        "print(c)  # hello      world, I am       oxxo\n",
        "print(d)  # hello --world---, I am +++oxxo+++\n",
        "print(e)  # hello ---wor----, I am ---oxxo---\n",
        "print(f)  # hello ---wor----, I am  123.457"
      ],
      "metadata": {
        "colab": {
          "base_uri": "https://localhost:8080/"
        },
        "id": "LU6OrK-D-gxK",
        "outputId": "573b69d0-a8bd-447b-f8cd-92412d15fcc7"
      },
      "execution_count": null,
      "outputs": [
        {
          "output_type": "stream",
          "name": "stdout",
          "text": [
            "hello world, I am oxxo\n",
            "hello world     , I am oxxo      \n",
            "hello      world, I am       oxxo\n",
            "hello --world---, I am +++oxxo+++\n",
            "hello ---wor----, I am ---oxxo---\n",
            "hello ---wor----, I am  123.457  \n"
          ]
        }
      ]
    },
    {
      "cell_type": "code",
      "source": [
        "s=\"大道之行也，天 下為公。選賢與能，講信 修睦。故人不獨親其親，不獨子其子；使老有所終，壯有所用，幼有所長，矜寡孤獨廢疾者，皆有所養；男有分女有歸。貨惡其棄 於地也不必藏於己；力惡其不 出於身也不必為己。是故 謀閉而不興 ，盜竊亂賊而不作，故外戶而 不閉，是謂「大同」\"\n",
        "#1\n",
        "a = str(\"大道之行也，天  下為公。 選賢與能，講信  修睦。故人不獨親其親，不獨子其子；使老有所終，壯有 所用，幼有 所長，矜寡孤獨廢疾者，皆有所養；男有分 女有歸。貨惡其棄 於地也不必藏於  己；力惡其不  出於身也不必為己。是故 謀閉而不興 ，盜竊亂賊而不作，故外戶而 不閉，是謂「大同」。\")\n",
        "b = a.replace(\" \",\"\",)\n",
        "c = len(b)\n",
        "print(\"#1\",c)\n",
        "#2\n",
        "list2 = s.split(\"；\")\n",
        "print(\"#2\",list2)\n",
        "\n",
        "#3\n",
        "print(\"#3\",s.count(\"不\"))\n"
      ],
      "metadata": {
        "colab": {
          "base_uri": "https://localhost:8080/"
        },
        "id": "Xw8EFolCaIba",
        "outputId": "a9336204-429d-461c-bc8b-23aebacc8d75"
      },
      "execution_count": 68,
      "outputs": [
        {
          "output_type": "stream",
          "name": "stdout",
          "text": [
            "#1 127\n",
            "#2 ['大道之行也，天 下為公。選賢與能，講信 修睦。故人不獨親其親，不獨子其子', '使老有所終，壯有所用，幼有所長，矜寡孤獨廢疾者，皆有所養', '男有分女有歸。貨惡其棄 於地也不必藏於己', '力惡其不 出於身也不必為己。是故 謀閉而不興 ，盜竊亂賊而不作，故外戶而 不閉，是謂「大同」']\n",
            "#3 8\n"
          ]
        }
      ]
    }
  ]
}